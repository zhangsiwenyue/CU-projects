{
 "cells": [
  {
   "cell_type": "code",
   "execution_count": 2,
   "metadata": {},
   "outputs": [
    {
     "name": "stdout",
     "output_type": "stream",
     "text": [
      "Number of records after dropping None values: 1127657\n",
      "First 5 records of the data frame:\n",
      "                                   uuid      name          type primary_role  \\\n",
      "0  e1393508-30ea-8a36-3f96-dd3226033abd  Wetpaint  organization      company   \n",
      "1  bf4d7b0e-b34d-2fd8-d292-6049c4f7efc7      Zoho  organization      company   \n",
      "2  5f2b40b8-d1b3-d323-d81a-b7a8e89553d0      Digg  organization      company   \n",
      "3  df662812-7f97-0b43-9d3e-12f64f504fbb  Facebook  organization      company   \n",
      "4  b08efc27-da40-505a-6f9d-c9e14247bf36     Accel  organization     investor   \n",
      "\n",
      "                                              cb_url        domain  \\\n",
      "0  https://www.crunchbase.com/organization/wetpai...  wetpaint.com   \n",
      "1  https://www.crunchbase.com/organization/zoho?u...      zoho.com   \n",
      "2  https://www.crunchbase.com/organization/digg?u...      digg.com   \n",
      "3  https://www.crunchbase.com/organization/facebo...  facebook.com   \n",
      "4  https://www.crunchbase.com/organization/accel?...     accel.com   \n",
      "\n",
      "               homepage_url  \\\n",
      "0  http://www.wetpaint.com/   \n",
      "1     https://www.zoho.com/   \n",
      "2       http://www.digg.com   \n",
      "3   http://www.facebook.com   \n",
      "4      http://www.accel.com   \n",
      "\n",
      "                                            logo_url  \\\n",
      "0  https://res.cloudinary.com/crunchbase-producti...   \n",
      "1  https://res.cloudinary.com/crunchbase-producti...   \n",
      "2  https://res.cloudinary.com/crunchbase-producti...   \n",
      "3  https://res.cloudinary.com/crunchbase-producti...   \n",
      "4  https://res.cloudinary.com/crunchbase-producti...   \n",
      "\n",
      "                         facebook_url                     twitter_url  \\\n",
      "0   https://www.facebook.com/Wetpaint  https://twitter.com/wetpainttv   \n",
      "1        http://www.facebook.com/zoho         http://twitter.com/zoho   \n",
      "2        http://www.facebook.com/digg         http://twitter.com/digg   \n",
      "3  https://www.facebook.com/facebook/    https://twitter.com/facebook   \n",
      "4       http://www.facebook.com/accel        http://twitter.com/accel   \n",
      "\n",
      "                                        linkedin_url combined_stock_symbols  \\\n",
      "0          https://www.linkedin.com/company/wetpaint                    NaN   \n",
      "1  http://www.linkedin.com/company/zoho-corporati...                    NaN   \n",
      "2               http://www.linkedin.com/company/digg                    NaN   \n",
      "3           http://www.linkedin.com/company/facebook              nasdaq:FB   \n",
      "4         https://www.linkedin.com/company/accel-vc/                    NaN   \n",
      "\n",
      "         city      region country_code  \\\n",
      "0    New York    New York          USA   \n",
      "1  Pleasanton  California          USA   \n",
      "2    New York    New York          USA   \n",
      "3  Menlo Park  California          USA   \n",
      "4   Palo Alto  California          USA   \n",
      "\n",
      "                                   short_description  \n",
      "0  Wetpaint offers an online social publishing pl...  \n",
      "1  Zoho offers a suite of business, collaboration...  \n",
      "2  Digg Inc. operates a website that enables its ...  \n",
      "3  Facebook is an online social networking servic...  \n",
      "4  Accel is an early and growth-stage venture cap...  \n"
     ]
    }
   ],
   "source": [
    "import pandas as pd\n",
    "import numpy as np\n",
    "df = pd.read_csv(\"C:/Users/rober/Downloads/crunchbase_odm_orgs.csv\")\n",
    "#Read the CSV file into a Pandas data frame and drop records where company names are None values:\n",
    "df = df.dropna(subset=['name'])\n",
    "#Print the count of records (rows) in the resulting data frame\n",
    "print(\"Number of records after dropping None values:\", len(df))\n",
    "#Print the first 5 records of the data frame\n",
    "print(\"First 5 records of the data frame:\")\n",
    "print(df.head())"
   ]
  },
  {
   "cell_type": "code",
   "execution_count": 3,
   "metadata": {},
   "outputs": [
    {
     "name": "stdout",
     "output_type": "stream",
     "text": [
      "Number of USA-based companies whose name starts with 'Ac': 2255\n",
      "                                      uuid                       name  \\\n",
      "4     b08efc27-da40-505a-6f9d-c9e14247bf36                      Accel   \n",
      "186   ed54b2d5-f2f1-d4e9-9bbe-40961ff08d44              Action Engine   \n",
      "278   64a76f34-4e68-2eb6-d943-9465f39155cd               ActiveWorlds   \n",
      "1244  ef598b5b-d588-c21f-9b93-be78443f4e22                     Acquia   \n",
      "1879  135f427d-7f25-9492-1ffe-801b35b6b988  Academic Capital Exchange   \n",
      "\n",
      "              type primary_role  \\\n",
      "4     organization     investor   \n",
      "186   organization      company   \n",
      "278   organization      company   \n",
      "1244  organization      company   \n",
      "1879  organization      company   \n",
      "\n",
      "                                                 cb_url              domain  \\\n",
      "4     https://www.crunchbase.com/organization/accel?...           accel.com   \n",
      "186   https://www.crunchbase.com/organization/action...    actionengine.com   \n",
      "278   https://www.crunchbase.com/organization/active...    activeworlds.com   \n",
      "1244  https://www.crunchbase.com/organization/acquia...          acquia.com   \n",
      "1879  https://www.crunchbase.com/organization/academ...  academicapital.com   \n",
      "\n",
      "                       homepage_url  \\\n",
      "4              http://www.accel.com   \n",
      "186     http://www.actionengine.com   \n",
      "278     http://www.activeworlds.com   \n",
      "1244              http://acquia.com   \n",
      "1879  http://www.academicapital.com   \n",
      "\n",
      "                                               logo_url  \\\n",
      "4     https://res.cloudinary.com/crunchbase-producti...   \n",
      "186   https://res.cloudinary.com/crunchbase-producti...   \n",
      "278   https://res.cloudinary.com/crunchbase-producti...   \n",
      "1244  https://res.cloudinary.com/crunchbase-producti...   \n",
      "1879  https://res.cloudinary.com/crunchbase-producti...   \n",
      "\n",
      "                                facebook_url  \\\n",
      "4              http://www.facebook.com/accel   \n",
      "186                                      NaN   \n",
      "278   http://www.facebook.com/activeworlds3d   \n",
      "1244          http://www.facebook.com/acquia   \n",
      "1879                                     NaN   \n",
      "\n",
      "                            twitter_url  \\\n",
      "4              http://twitter.com/accel   \n",
      "186                                 NaN   \n",
      "278   http://twitter.com/activeworlds3d   \n",
      "1244          http://twitter.com/Acquia   \n",
      "1879                                NaN   \n",
      "\n",
      "                                       linkedin_url combined_stock_symbols  \\\n",
      "4        https://www.linkedin.com/company/accel-vc/                    NaN   \n",
      "186   https://www.linkedin.com/company/actionengine                    NaN   \n",
      "278                                             NaN                    NaN   \n",
      "1244         http://www.linkedin.com/company/167056                    NaN   \n",
      "1879                                            NaN                    NaN   \n",
      "\n",
      "             city         region country_code  \\\n",
      "4       Palo Alto     California          USA   \n",
      "186   Foster City     California          USA   \n",
      "278     Las Vegas         Nevada          USA   \n",
      "1244       Boston  Massachusetts          USA   \n",
      "1879      Chicago       Illinois          USA   \n",
      "\n",
      "                                      short_description  \n",
      "4     Accel is an early and growth-stage venture cap...  \n",
      "186   Action Engine is an agile software development...  \n",
      "278   Active Worlds is a 3D virtual reality platform...  \n",
      "1244  Acquia specializes in providing cloud-based di...  \n",
      "1879  Academic Capital Exchange (ACE), a peer-to-pee...  \n"
     ]
    }
   ],
   "source": [
    "#Create a data frame that contains only the records of USA-based companies whose name starts with \"Ac\"\n",
    "# Filter records of USA-based companies whose name starts with \"Ac\"\n",
    "usa_ac_companies = df[(df['country_code'] == 'USA') & (df['name'].str.startswith('Ac'))]\n",
    "#Print the count of records (rows) in the resulting data frame\n",
    "print(\"Number of USA-based companies whose name starts with 'Ac':\", len(usa_ac_companies))\n",
    "# Print the first 5 records of the data frame\n",
    "print(usa_ac_companies.head())"
   ]
  },
  {
   "cell_type": "code",
   "execution_count": 4,
   "metadata": {},
   "outputs": [
    {
     "name": "stdout",
     "output_type": "stream",
     "text": [
      "Count of JSON objects: 2255\n",
      "First 5 JSON objects:\n",
      "{\"uuid\": \"b08efc27-da40-505a-6f9d-c9e14247bf36\", \"name\": \"Accel\", \"type\": \"organization\", \"primary_role\": \"investor\", \"cb_url\": \"https://www.crunchbase.com/organization/accel?utm_source=crunchbase&utm_medium=export&utm_campaign=odm_csv\", \"domain\": \"accel.com\", \"homepage_url\": \"http://www.accel.com\", \"logo_url\": \"https://res.cloudinary.com/crunchbase-production/image/upload/kxcwecxf439wsgluv7jv\", \"facebook_url\": \"http://www.facebook.com/accel\", \"twitter_url\": \"http://twitter.com/accel\", \"linkedin_url\": \"https://www.linkedin.com/company/accel-vc/\", \"combined_stock_symbols\": null, \"city\": \"Palo Alto\", \"region\": \"California\", \"country_code\": \"USA\", \"short_description\": \"Accel is an early and growth-stage venture capital firm that powers a global community of entrepreneurs.\"}\n",
      "{\"uuid\": \"ed54b2d5-f2f1-d4e9-9bbe-40961ff08d44\", \"name\": \"Action Engine\", \"type\": \"organization\", \"primary_role\": \"company\", \"cb_url\": \"https://www.crunchbase.com/organization/actionengine?utm_source=crunchbase&utm_medium=export&utm_campaign=odm_csv\", \"domain\": \"actionengine.com\", \"homepage_url\": \"http://www.actionengine.com\", \"logo_url\": \"https://res.cloudinary.com/crunchbase-production/image/upload/ubyv0j9it0vpkefruxr4\", \"facebook_url\": null, \"twitter_url\": null, \"linkedin_url\": \"https://www.linkedin.com/company/actionengine\", \"combined_stock_symbols\": null, \"city\": \"Foster City\", \"region\": \"California\", \"country_code\": \"USA\", \"short_description\": \"Action Engine is an agile software development, design and data services agency\"}\n",
      "{\"uuid\": \"64a76f34-4e68-2eb6-d943-9465f39155cd\", \"name\": \"ActiveWorlds\", \"type\": \"organization\", \"primary_role\": \"company\", \"cb_url\": \"https://www.crunchbase.com/organization/activeworlds?utm_source=crunchbase&utm_medium=export&utm_campaign=odm_csv\", \"domain\": \"activeworlds.com\", \"homepage_url\": \"http://www.activeworlds.com\", \"logo_url\": \"https://res.cloudinary.com/crunchbase-production/image/upload/v1397180850/e53e7f472d5954396a2572c7d6548365.png\", \"facebook_url\": \"http://www.facebook.com/activeworlds3d\", \"twitter_url\": \"http://twitter.com/activeworlds3d\", \"linkedin_url\": null, \"combined_stock_symbols\": null, \"city\": \"Las Vegas\", \"region\": \"Nevada\", \"country_code\": \"USA\", \"short_description\": \"Active Worlds is a 3D virtual reality platform enabling users to build, enter and move about in worlds and interact with others.\"}\n",
      "{\"uuid\": \"ef598b5b-d588-c21f-9b93-be78443f4e22\", \"name\": \"Acquia\", \"type\": \"organization\", \"primary_role\": \"company\", \"cb_url\": \"https://www.crunchbase.com/organization/acquia?utm_source=crunchbase&utm_medium=export&utm_campaign=odm_csv\", \"domain\": \"acquia.com\", \"homepage_url\": \"http://acquia.com\", \"logo_url\": \"https://res.cloudinary.com/crunchbase-production/image/upload/rbjvr1i7q5w5f430iavw\", \"facebook_url\": \"http://www.facebook.com/acquia\", \"twitter_url\": \"http://twitter.com/Acquia\", \"linkedin_url\": \"http://www.linkedin.com/company/167056\", \"combined_stock_symbols\": null, \"city\": \"Boston\", \"region\": \"Massachusetts\", \"country_code\": \"USA\", \"short_description\": \"Acquia specializes in providing cloud-based digital experience management solutions.\"}\n",
      "{\"uuid\": \"135f427d-7f25-9492-1ffe-801b35b6b988\", \"name\": \"Academic Capital Exchange\", \"type\": \"organization\", \"primary_role\": \"company\", \"cb_url\": \"https://www.crunchbase.com/organization/academic-capital-exchange?utm_source=crunchbase&utm_medium=export&utm_campaign=odm_csv\", \"domain\": \"academicapital.com\", \"homepage_url\": \"http://www.academicapital.com\", \"logo_url\": \"https://res.cloudinary.com/crunchbase-production/image/upload/v1397183889/5fe5afd0210d774cbb5b5061010fb9a0.jpg\", \"facebook_url\": null, \"twitter_url\": null, \"linkedin_url\": null, \"combined_stock_symbols\": null, \"city\": \"Chicago\", \"region\": \"Illinois\", \"country_code\": \"USA\", \"short_description\": \"Academic Capital Exchange (ACE), a peer-to-peer student loan marketplace, helps students obtain financial support and professional guidance.\"}\n"
     ]
    }
   ],
   "source": [
    "import json\n",
    "#Convert the data frame from the previous step into a list of JSON objects\n",
    "js_objects = usa_ac_companies.to_json(orient='records')\n",
    "# Print the count of JSON objects\n",
    "js_count = len(usa_ac_companies)\n",
    "print(\"Count of JSON objects:\", js_count)\n",
    "#Print the first 5 JSON objects\n",
    "print(\"First 5 JSON objects:\")\n",
    "js_list = json.loads(js_objects)\n",
    "for obj in js_list[:5]:\n",
    "    print(json.dumps(obj))"
   ]
  },
  {
   "cell_type": "code",
   "execution_count": 5,
   "metadata": {},
   "outputs": [
    {
     "name": "stdout",
     "output_type": "stream",
     "text": [
      "Number of records in the resulting file: 2255\n"
     ]
    }
   ],
   "source": [
    "#Write all JSON objects into a text (JSON string) file\n",
    "with open('usa_ac_companies.json', 'w') as f:\n",
    "    f.write(js_objects)\n",
    "#Print the number of records in the resulting file\n",
    "with open('usa_ac_companies.json', 'r') as f:\n",
    "    js_records = json.load(f)\n",
    "    print(\"Number of records in the resulting file:\", len(js_records))"
   ]
  },
  {
   "cell_type": "code",
   "execution_count": 6,
   "metadata": {},
   "outputs": [
    {
     "name": "stdout",
     "output_type": "stream",
     "text": [
      "Number of records for companies based in New York City: 116\n"
     ]
    }
   ],
   "source": [
    "from flask import Flask, render_template\n",
    "app = Flask(\"APAN5400HW1App\")\n",
    "# Read the JSON objects from the created file back into a data frame\n",
    "nyc_companies_df = pd.DataFrame(js_records)\n",
    "#filter for companies based in New York (city)\n",
    "nyc_companies = nyc_companies_df[nyc_companies_df['city'] == 'New York']\n",
    "# Print the number of records in the resulting data frame\n",
    "print(\"Number of records for companies based in New York City:\", len(nyc_companies))"
   ]
  },
  {
   "cell_type": "code",
   "execution_count": 14,
   "metadata": {},
   "outputs": [
    {
     "name": "stdout",
     "output_type": "stream",
     "text": [
      " * Serving Flask app 'APAN5400HW1'\n",
      " * Debug mode: on\n"
     ]
    },
    {
     "name": "stderr",
     "output_type": "stream",
     "text": [
      "WARNING: This is a development server. Do not use it in a production deployment. Use a production WSGI server instead.\n",
      " * Running on http://localhost:5001\n",
      "Press CTRL+C to quit\n",
      " * Restarting with stat\n"
     ]
    },
    {
     "ename": "SystemExit",
     "evalue": "1",
     "output_type": "error",
     "traceback": [
      "An exception has occurred, use %tb to see the full traceback.\n",
      "\u001b[1;31mSystemExit\u001b[0m\u001b[1;31m:\u001b[0m 1\n"
     ]
    }
   ],
   "source": [
    "# Write the output to a webpage using Flask\n",
    "app = Flask(\"APAN5400HW1\")\n",
    "@app.route('/')\n",
    "def index():\n",
    "    output = nyc_companies\n",
    "    return render_template('index.html', result=output)\n",
    "\n",
    "if __name__ == '__main__':\n",
    "    app.debug = True\n",
    "    app.run(host='localhost', port=5001)"
   ]
  }
 ],
 "metadata": {
  "kernelspec": {
   "display_name": "myenv",
   "language": "python",
   "name": "python3"
  },
  "language_info": {
   "codemirror_mode": {
    "name": "ipython",
    "version": 3
   },
   "file_extension": ".py",
   "mimetype": "text/x-python",
   "name": "python",
   "nbconvert_exporter": "python",
   "pygments_lexer": "ipython3",
   "version": "3.9.18"
  }
 },
 "nbformat": 4,
 "nbformat_minor": 2
}
