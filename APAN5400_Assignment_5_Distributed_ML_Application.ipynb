{
 "cells": [
  {
   "cell_type": "code",
   "execution_count": 1,
   "metadata": {
    "colab": {
     "base_uri": "https://localhost:8080/"
    },
    "id": "ODR171radY0d",
    "outputId": "4c3a4a05-0580-402f-9c8b-61382e8e7b4a"
   },
   "outputs": [
    {
     "name": "stdout",
     "output_type": "stream",
     "text": [
      "Collecting pyspark\n",
      "  Downloading pyspark-3.5.1.tar.gz (317.0 MB)\n",
      "\u001b[2K     \u001b[90m━━━━━━━━━━━━━━━━━━━━━━━━━━━━━━━━━━━━━━━━\u001b[0m \u001b[32m317.0/317.0 MB\u001b[0m \u001b[31m1.3 MB/s\u001b[0m eta \u001b[36m0:00:00\u001b[0m\n",
      "\u001b[?25h  Preparing metadata (setup.py) ... \u001b[?25l\u001b[?25hdone\n",
      "Requirement already satisfied: py4j==0.10.9.7 in /usr/local/lib/python3.10/dist-packages (from pyspark) (0.10.9.7)\n",
      "Building wheels for collected packages: pyspark\n",
      "  Building wheel for pyspark (setup.py) ... \u001b[?25l\u001b[?25hdone\n",
      "  Created wheel for pyspark: filename=pyspark-3.5.1-py2.py3-none-any.whl size=317488491 sha256=61249e6544f5073431e82188769998470b269f8a649622d1de582a94bf03a61b\n",
      "  Stored in directory: /root/.cache/pip/wheels/80/1d/60/2c256ed38dddce2fdd93be545214a63e02fbd8d74fb0b7f3a6\n",
      "Successfully built pyspark\n",
      "Installing collected packages: pyspark\n",
      "Successfully installed pyspark-3.5.1\n"
     ]
    }
   ],
   "source": [
    "!pip install -U pyspark"
   ]
  },
  {
   "cell_type": "code",
   "execution_count": 2,
   "metadata": {
    "colab": {
     "base_uri": "https://localhost:8080/"
    },
    "id": "tWJIV3KmdSuU",
    "outputId": "39ee4018-fc47-48c0-f15f-54321bea87cf"
   },
   "outputs": [
    {
     "name": "stdout",
     "output_type": "stream",
     "text": [
      "Using Apache Spark Version 3.5.1\n"
     ]
    }
   ],
   "source": [
    "from pyspark.sql import SparkSession\n",
    "from pyspark.sql import SQLContext\n",
    "\n",
    "spark = SparkSession.builder.getOrCreate()\n",
    "sc = spark.sparkContext\n",
    "print(\"Using Apache Spark Version\", spark.version)"
   ]
  },
  {
   "cell_type": "code",
   "execution_count": 37,
   "metadata": {
    "id": "Qe_I6U_m50_1"
   },
   "outputs": [],
   "source": [
    "import os\n",
    "import sys\n",
    "os.environ['PYSPARK_PYTHON'] = sys.executable\n",
    "os.environ['PYSPARK_DRIVER_PYTHON'] = sys.executable"
   ]
  },
  {
   "cell_type": "code",
   "execution_count": 38,
   "metadata": {
    "colab": {
     "base_uri": "https://localhost:8080/"
    },
    "id": "mRZhkzuLcx6l",
    "outputId": "9ab1a5a7-d71e-4be4-fb6d-c6dd5910c2c6"
   },
   "outputs": [
    {
     "name": "stdout",
     "output_type": "stream",
     "text": [
      "Using Apache Spark Version 3.5.1\n"
     ]
    }
   ],
   "source": [
    "from pyspark.sql import SparkSession\n",
    "\n",
    "spark = SparkSession \\\n",
    "    .builder \\\n",
    "    .appName(\"Intro to Apache Spark\") \\\n",
    "    .config(\"spark.cores.max\", \"4\") \\\n",
    "    .config('spark.executor.memory', '8G') \\\n",
    "    .config('spark.driver.maxResultSize', '8g') \\\n",
    "    .config('spark.kryoserializer.buffer.max', '512m') \\\n",
    "    .config(\"spark.driver.cores\", \"4\") \\\n",
    "    .getOrCreate()\n",
    "\n",
    "sc = spark.sparkContext\n",
    "\n",
    "print(\"Using Apache Spark Version\", spark.version)"
   ]
  },
  {
   "cell_type": "code",
   "execution_count": 39,
   "metadata": {
    "colab": {
     "base_uri": "https://localhost:8080/"
    },
    "id": "nLZcMb0Jcy3n",
    "outputId": "48670d8e-d0d8-4e96-da8c-8c95a0c0d49a"
   },
   "outputs": [
    {
     "name": "stdout",
     "output_type": "stream",
     "text": [
      "root\n",
      " |-- uuid: string (nullable = true)\n",
      " |-- name: string (nullable = true)\n",
      " |-- type: string (nullable = true)\n",
      " |-- primary_role: string (nullable = true)\n",
      " |-- cb_url: string (nullable = true)\n",
      " |-- domain: string (nullable = true)\n",
      " |-- homepage_url: string (nullable = true)\n",
      " |-- logo_url: string (nullable = true)\n",
      " |-- facebook_url: string (nullable = true)\n",
      " |-- twitter_url: string (nullable = true)\n",
      " |-- linkedin_url: string (nullable = true)\n",
      " |-- combined_stock_symbols: string (nullable = true)\n",
      " |-- city: string (nullable = true)\n",
      " |-- region: string (nullable = true)\n",
      " |-- country_code: string (nullable = true)\n",
      " |-- short_description: string (nullable = true)\n",
      "\n"
     ]
    }
   ],
   "source": [
    "cb_sdf = spark.read.option(\"header\", \"true\") \\\n",
    "                   .option(\"delimiter\", \",\") \\\n",
    "                   .option(\"inferSchema\", \"true\") \\\n",
    "                   .csv(\"/crunchbase_odm_orgs (1).csv\")\n",
    "cb_sdf.printSchema()"
   ]
  },
  {
   "cell_type": "code",
   "execution_count": 42,
   "metadata": {
    "colab": {
     "base_uri": "https://localhost:8080/"
    },
    "id": "Pc6Ub2v3gNji",
    "outputId": "c1f0ccdb-a1a5-4b34-bec3-a71aa4945f74"
   },
   "outputs": [
    {
     "data": {
      "text/plain": [
       "1127655"
      ]
     },
     "execution_count": 42,
     "metadata": {},
     "output_type": "execute_result"
    }
   ],
   "source": [
    "cb_sdf = cb_sdf.na.drop(subset=[\"short_description\"])\n",
    "cb_sdf.count()"
   ]
  },
  {
   "cell_type": "code",
   "execution_count": 46,
   "metadata": {
    "colab": {
     "base_uri": "https://localhost:8080/"
    },
    "id": "3_IiIryTkw4v",
    "outputId": "696d0188-f8db-4f5c-9f19-c6d0077a2388"
   },
   "outputs": [
    {
     "name": "stdout",
     "output_type": "stream",
     "text": [
      "+---------------------+----------------+----------+------------+\n",
      "|name                 |city            |region    |country_code|\n",
      "+---------------------+----------------+----------+------------+\n",
      "|Time Warner          |New York        |New York  |USA         |\n",
      "|Goldman Sachs        |New York        |New York  |USA         |\n",
      "|Jingle Networks      |New York        |New York  |USA         |\n",
      "|Hearst Communications|New York        |New York  |USA         |\n",
      "|Ning Interactive     |Menlo Park      |California|USA         |\n",
      "|Prosper Marketplace  |San Francisco   |California|USA         |\n",
      "|Tribune Media        |Chicago         |Illinois  |USA         |\n",
      "|Aggregate Knowledge  |San Mateo       |California|USA         |\n",
      "|Zing Systems         |Mountain View   |California|USA         |\n",
      "|Amie Street          |Long Island City|New York  |USA         |\n",
      "|Legg Mason           |Baltimore       |Maryland  |USA         |\n",
      "|Haute Secure         |Seattle         |Washington|USA         |\n",
      "|Squid Labs           |Alameda         |California|USA         |\n",
      "|SAY Media            |San Francisco   |California|USA         |\n",
      "|Metaweb Technologies |San Francisco   |California|USA         |\n",
      "|Mode Media           |Brisbane        |California|USA         |\n",
      "|Linden Lab           |San Francisco   |California|USA         |\n",
      "|Broadband Mechanics  |Walnut Creek    |California|USA         |\n",
      "|Cafe Press           |Louisville      |Colorado  |USA         |\n",
      "|Seeking Alpha        |New York        |New York  |USA         |\n",
      "+---------------------+----------------+----------+------------+\n",
      "only showing top 20 rows\n",
      "\n"
     ]
    }
   ],
   "source": [
    "#1. Find all companies with the name that is only two words\n",
    "filtered_cb_sdf = cb_sdf.filter(cb_sdf.name.rlike(\"^\\w+ \\w+$\"))\n",
    "result_df = filtered_cb_sdf.select(\"name\", \"city\", \"region\", \"country_code\")\n",
    "result_df.show(truncate=False)"
   ]
  },
  {
   "cell_type": "code",
   "execution_count": 47,
   "metadata": {
    "colab": {
     "base_uri": "https://localhost:8080/"
    },
    "id": "LE5ip1wF6r0M",
    "outputId": "145cf57c-b2a1-4a06-a1c0-e6f55535d8dd"
   },
   "outputs": [
    {
     "data": {
      "text/plain": [
       "336764"
      ]
     },
     "execution_count": 47,
     "metadata": {},
     "output_type": "execute_result"
    }
   ],
   "source": [
    "# Return the number of companies with two word names.\n",
    "cb_sdf.filter(cb_sdf.name.rlike(\"^\\w+ \\w+$\")).count()"
   ]
  },
  {
   "cell_type": "code",
   "execution_count": 49,
   "metadata": {
    "colab": {
     "base_uri": "https://localhost:8080/"
    },
    "id": "UHXYg9UA7DxK",
    "outputId": "6d489404-2fa9-4a1d-802e-3a118b5f468f"
   },
   "outputs": [
    {
     "name": "stdout",
     "output_type": "stream",
     "text": [
      "+---------------------+--------------+----------+------------+\n",
      "|name                 |city          |region    |country_code|\n",
      "+---------------------+--------------+----------+------------+\n",
      "|Zoho                 |Pleasanton    |California|USA         |\n",
      "|Facebook             |Menlo Park    |California|USA         |\n",
      "|Accel                |Palo Alto     |California|USA         |\n",
      "|Omnidrive            |Palo Alto     |California|USA         |\n",
      "|Geni                 |West Hollywood|California|USA         |\n",
      "|Flektor              |Culver City   |California|USA         |\n",
      "|Fox Interactive Media|Beverly Hills |California|USA         |\n",
      "|Twitter              |San Francisco |California|USA         |\n",
      "|StumbleUpon          |San Francisco |California|USA         |\n",
      "|Scribd               |San Francisco |California|USA         |\n",
      "|Slacker              |San Diego     |California|USA         |\n",
      "|Lala                 |Palo Alto     |California|USA         |\n",
      "|Helio                |Los Angeles   |California|USA         |\n",
      "|eBay                 |San Jose      |California|USA         |\n",
      "|Postini              |San Carlos    |California|USA         |\n",
      "|Plaxo                |Sunnyvale     |California|USA         |\n",
      "|Cisco                |San Jose      |California|USA         |\n",
      "|Powerset             |San Francisco |California|USA         |\n",
      "|Technorati           |San Francisco |California|USA         |\n",
      "|OpenX                |Pasadena      |California|USA         |\n",
      "+---------------------+--------------+----------+------------+\n",
      "only showing top 20 rows\n",
      "\n"
     ]
    }
   ],
   "source": [
    "#2. Find all companies located in the state of California\n",
    "filtered_cb_sdf_2 = cb_sdf.filter(cb_sdf.region == \"California\")\n",
    "result_df_2= filtered_cb_sdf_2.select(\"name\", \"city\", \"region\", \"country_code\")\n",
    "result_df_2.show(truncate=False)"
   ]
  },
  {
   "cell_type": "code",
   "execution_count": 50,
   "metadata": {
    "colab": {
     "base_uri": "https://localhost:8080/"
    },
    "id": "-796Lx6-9kdb",
    "outputId": "cae41fa1-2781-4592-e226-b061f65e58b4"
   },
   "outputs": [
    {
     "data": {
      "text/plain": [
       "94871"
      ]
     },
     "execution_count": 50,
     "metadata": {},
     "output_type": "execute_result"
    }
   ],
   "source": [
    "# Return the number of companies located in California.\n",
    "cb_sdf.filter(cb_sdf.region == \"California\").count()"
   ]
  },
  {
   "cell_type": "code",
   "execution_count": 53,
   "metadata": {
    "colab": {
     "base_uri": "https://localhost:8080/"
    },
    "id": "f0ALt48s97Om",
    "outputId": "e7bb7429-ef3f-4f0b-8cc8-4750ff66fdf7"
   },
   "outputs": [
    {
     "name": "stdout",
     "output_type": "stream",
     "text": [
      "+--------------------+--------------------+------------+------------+--------------------+---------------+--------------------+--------------------+--------------------+--------------------+--------------------+----------------------+--------------+----------+------------+--------------------+----+\n",
      "|                uuid|                name|        type|primary_role|              cb_url|         domain|        homepage_url|            logo_url|        facebook_url|         twitter_url|        linkedin_url|combined_stock_symbols|          city|    region|country_code|   short_description|Blog|\n",
      "+--------------------+--------------------+------------+------------+--------------------+---------------+--------------------+--------------------+--------------------+--------------------+--------------------+----------------------+--------------+----------+------------+--------------------+----+\n",
      "|e1393508-30ea-8a3...|            Wetpaint|organization|     company|https://www.crunc...|   wetpaint.com|http://www.wetpai...|https://res.cloud...|https://www.faceb...|https://twitter.c...|https://www.linke...|                  NULL|      New York|  New York|         USA|Wetpaint offers a...|   0|\n",
      "|bf4d7b0e-b34d-2fd...|                Zoho|organization|     company|https://www.crunc...|       zoho.com|https://www.zoho....|https://res.cloud...|http://www.facebo...|http://twitter.co...|http://www.linked...|                  NULL|    Pleasanton|California|         USA|Zoho offers a sui...|   0|\n",
      "|5f2b40b8-d1b3-d32...|                Digg|organization|     company|https://www.crunc...|       digg.com| http://www.digg.com|https://res.cloud...|http://www.facebo...|http://twitter.co...|http://www.linked...|                  NULL|      New York|  New York|         USA|Digg Inc. operate...|   0|\n",
      "|df662812-7f97-0b4...|            Facebook|organization|     company|https://www.crunc...|   facebook.com|http://www.facebo...|https://res.cloud...|https://www.faceb...|https://twitter.c...|http://www.linked...|             nasdaq:FB|    Menlo Park|California|         USA|Facebook is an on...|   0|\n",
      "|b08efc27-da40-505...|               Accel|organization|    investor|https://www.crunc...|      accel.com|http://www.accel.com|https://res.cloud...|http://www.facebo...|http://twitter.co...|https://www.linke...|                  NULL|     Palo Alto|California|         USA|Accel is an early...|   0|\n",
      "|60485007-8856-bba...|           Omnidrive|organization|     company|https://www.crunc...|  omnidrive.com|http://www.omnidr...|https://res.cloud...|http://www.facebo...|http://twitter.co...|                NULL|                  NULL|     Palo Alto|California|         USA|Omnidrive provide...|   0|\n",
      "|4111dc8b-c0df-2d2...|                Geni|organization|     company|https://www.crunc...|       geni.com| http://www.geni.com|https://res.cloud...|https://www.faceb...|http://twitter.co...|https://www.linke...|                  NULL|West Hollywood|California|         USA|Geni is an online...|   0|\n",
      "|180ebf67-68d0-231...|             Flektor|organization|     company|https://www.crunc...|    flektor.com|http://www.flekto...|https://res.cloud...|                NULL|                NULL|                NULL|                  NULL|   Culver City|California|         USA|Flektor is a mash...|   0|\n",
      "|d70777cc-14bd-241...|Fox Interactive M...|organization|     company|https://www.crunc...|        fox.com|https://www.fox.com/|https://res.cloud...|                NULL|                NULL|https://www.linke...|                  NULL| Beverly Hills|California|         USA|Fox Interactive M...|   0|\n",
      "|5da6106f-0d27-0d3...|             Twitter|organization|     company|https://www.crunc...|    twitter.com|http://www.twitte...|https://res.cloud...|https://www.faceb...|http://twitter.co...|http://www.linked...|             nyse:TWTR| San Francisco|California|         USA|Twitter is a soci...|   0|\n",
      "|3d16cb4c-911e-75c...|         StumbleUpon|organization|     company|https://www.crunc...|stumbleupon.com|http://www.stumbl...|https://res.cloud...|https://www.faceb...|http://twitter.co...|http://www.linked...|                  NULL| San Francisco|California|         USA|StumbleUpon is a ...|   0|\n",
      "|56b5f0c1-855f-2eb...|              Gizmoz|organization|     company|https://www.crunc...|     gizmoz.com|   http://gizmoz.com|https://res.cloud...|                NULL|                NULL|                NULL|                  NULL|      New York|  New York|         USA|Gizmoz develops p...|   0|\n",
      "|21e77067-5537-408...|              Scribd|organization|     company|https://www.crunc...|     scribd.com|http://www.scribd...|https://res.cloud...|http://www.facebo...|http://www.twitte...|http://www.linked...|                  NULL| San Francisco|California|         USA|Scribd is an unli...|   0|\n",
      "|ea091a8c-40e0-060...|             Slacker|organization|     company|https://www.crunc...|    slacker.com|http://www.slacke...|https://res.cloud...|http://www.facebo...|http://twitter.co...|https://www.linke...|                  NULL|     San Diego|California|         USA|Slacker, an inter...|   0|\n",
      "|59fada33-1595-de4...|                Lala|organization|     company|https://www.crunc...|       lala.com| http://www.lala.com|https://res.cloud...|                NULL|                NULL|                NULL|                  NULL|     Palo Alto|California|         USA|Lala, an online m...|   0|\n",
      "|56e82b22-7466-b00...|               Helio|organization|     company|https://www.crunc...|      helio.com|http://www.helio.com|https://res.cloud...|                NULL|                NULL|                NULL|                  NULL|   Los Angeles|California|         USA|Helio, a mobile s...|   0|\n",
      "|e56b0ceb-bb30-bbe...|                eBay|organization|     company|https://www.crunc...|       ebay.com|     http://ebay.com|https://res.cloud...|http://www.facebo...|http://twitter.co...|http://www.linked...|           nasdaq:EBAY|      San Jose|California|         USA|eBay is an online...|   0|\n",
      "|7ac8de1f-61b5-b1e...|              Wis.dm|organization|     company|https://www.crunc...|         wis.dm|       http://wis.dm|https://res.cloud...|                NULL|http://twitter.co...|                NULL|                  NULL|       Chicago|  Illinois|         USA|Wis.dm is a socia...|   0|\n",
      "|b528bd22-cce5-c60...|             MeetMoi|organization|     company|https://www.crunc...|    meetmoi.com|http://www.meetmo...|https://res.cloud...|                NULL|http://twitter.co...|                NULL|                  NULL|      New York|  New York|         USA|MeetMoi is a loca...|   0|\n",
      "|8cb7f859-e757-093...|             Postini|organization|     company|https://www.crunc...|    postini.com|  http://postini.com|https://res.cloud...|                NULL|https://www.twitt...|https://www.linke...|                  NULL|    San Carlos|California|         USA|Postini offers so...|   0|\n",
      "+--------------------+--------------------+------------+------------+--------------------+---------------+--------------------+--------------------+--------------------+--------------------+--------------------+----------------------+--------------+----------+------------+--------------------+----+\n",
      "only showing top 20 rows\n",
      "\n"
     ]
    }
   ],
   "source": [
    "#3. Add a \"Blog\" column to the DataFrame with the row entries set to 1 if the \"domain\" field contains \"blogspot.com\", and 0 otherwise.\n",
    "cb_sdf = cb_sdf.withColumn(\"Blog\",cb_sdf.domain.contains(\"blogspot.com\").astype(\"int\"))\n",
    "cb_sdf.show()\n"
   ]
  },
  {
   "cell_type": "code",
   "execution_count": 55,
   "metadata": {
    "colab": {
     "base_uri": "https://localhost:8080/"
    },
    "id": "PA8BHT2M_p8i",
    "outputId": "0387de74-d91e-4348-d2df-c5d29f074ba0"
   },
   "outputs": [
    {
     "name": "stdout",
     "output_type": "stream",
     "text": [
      "+--------------------------+-------------+------------+------------+----+\n",
      "|name                      |city         |region      |country_code|Blog|\n",
      "+--------------------------+-------------+------------+------------+----+\n",
      "|Sad Urdu Poetry           |San Antonio  |Texas       |USA         |1   |\n",
      "|The Tech-Freak            |Sheffield    |Sheffield   |GBR         |1   |\n",
      "|Ma.Gnolia                 |San Francisco|California  |USA         |1   |\n",
      "|Dynasty Online            |NULL         |NULL        |NULL        |1   |\n",
      "|Hire-seo                  |NULL         |NULL        |NULL        |1   |\n",
      "|YelloYello                |Rijswijk     |Zuid-Holland|NLD         |1   |\n",
      "|Youtubehiphop             |São Paulo    |Sao Paulo   |BRA         |1   |\n",
      "|Payday advances           |NULL         |NULL        |NULL        |1   |\n",
      "|Blog Traffic Exchange     |Menlo Park   |California  |USA         |1   |\n",
      "|Sirius Forex Trading Group|NULL         |NULL        |NULL        |1   |\n",
      "|Utilsforge                |Delaware     |Ohio        |USA         |1   |\n",
      "|Discover India            |Faridabad    |Haryana     |IND         |1   |\n",
      "|Latest Home Decor         |NULL         |NULL        |NULL        |1   |\n",
      "|Sanguinet Consulting      |San Francisco|California  |USA         |1   |\n",
      "|john kenneth rosel        |San Francisco|California  |USA         |1   |\n",
      "|Web Solution Provider     |NULL         |NULL        |NULL        |1   |\n",
      "|Walking Ants Technologies |NULL         |NULL        |NULL        |1   |\n",
      "|BypassFanPages            |NULL         |NULL        |NULL        |1   |\n",
      "|List Australia            |Melbourne    |Victoria    |AUS         |1   |\n",
      "|NeverAnEmptyGlass Media   |Scottsdale   |Arizona     |USA         |1   |\n",
      "+--------------------------+-------------+------------+------------+----+\n",
      "only showing top 20 rows\n",
      "\n"
     ]
    }
   ],
   "source": [
    "#Show() only the name, location (city, region, country_code) and \"Blog\" column for companies with the \"Blog\" field marked as 1\n",
    "filtered_cb_sdf_3 = cb_sdf.filter(cb_sdf.Blog == 1)\n",
    "result_df_3 = filtered_cb_sdf_3.select(\"name\", \"city\", \"region\", \"country_code\",\"Blog\")\n",
    "result_df_3.show(truncate=False)\n"
   ]
  },
  {
   "cell_type": "code",
   "execution_count": 58,
   "metadata": {
    "colab": {
     "base_uri": "https://localhost:8080/"
    },
    "id": "DLsJmar2Cznk",
    "outputId": "4f527933-58ef-46da-cb9e-269d245e83c2"
   },
   "outputs": [
    {
     "data": {
      "text/plain": [
       "394"
      ]
     },
     "execution_count": 58,
     "metadata": {},
     "output_type": "execute_result"
    }
   ],
   "source": [
    "# Count the number of companies with \"Blog\" field marked as 1.\n",
    "cb_sdf.filter(cb_sdf.Blog == 1).count()"
   ]
  },
  {
   "cell_type": "code",
   "execution_count": 56,
   "metadata": {
    "colab": {
     "base_uri": "https://localhost:8080/"
    },
    "id": "JT8AFYDBAqZ7",
    "outputId": "b62fe0e7-d7c0-4076-d4a9-968de2d0e08d"
   },
   "outputs": [
    {
     "name": "stdout",
     "output_type": "stream",
     "text": [
      "+------+-------------+--------------+------------+\n",
      "|name  |city         |region        |country_code|\n",
      "+------+-------------+--------------+------------+\n",
      "|KAYAK |Stamford     |Connecticut   |USA         |\n",
      "|ooVoo |New York     |New York      |USA         |\n",
      "|63336 |London       |England       |GBR         |\n",
      "|TipiT |Delft        |Zuid-Holland  |NLD         |\n",
      "|beweb |Auckland     |Auckland      |NZL         |\n",
      "|CSC   |Falls Church |Virginia      |USA         |\n",
      "|CBC   |Ottawa       |Ontario       |CAN         |\n",
      "|OQO   |San Francisco|California    |USA         |\n",
      "|SAS   |Cary         |North Carolina|USA         |\n",
      "|e4e   |Santa Clara  |California    |USA         |\n",
      "|PHP   |Little Rock  |Arkansas      |USA         |\n",
      "|ivi   |Moscow       |Moscow City   |RUS         |\n",
      "|ADDA  |Bangalore    |Karnataka     |IND         |\n",
      "|izeezi|Chippenham   |Wiltshire     |GBR         |\n",
      "|siXis |Durham       |North Carolina|USA         |\n",
      "|STATS |Chicago      |Illinois      |USA         |\n",
      "|8x8   |San Jose     |California    |USA         |\n",
      "|IXI   |Mclean       |Virginia      |USA         |\n",
      "|GLG   |New York     |New York      |USA         |\n",
      "|2e2   |Newbury      |West Berkshire|GBR         |\n",
      "+------+-------------+--------------+------------+\n",
      "only showing top 20 rows\n",
      "\n"
     ]
    }
   ],
   "source": [
    "#4. Find all companies with names that are palindromes (name reads the same way forward and reverse, e.g. madam) using Spark UDF function.\n",
    "from pyspark.sql.functions import reverse\n",
    "filtered_cb_sdf_4 = cb_sdf.filter(cb_sdf.name == reverse(cb_sdf.name))\n",
    "result_df_4 = filtered_cb_sdf_4.select(\"name\", \"city\", \"region\", \"country_code\")\n",
    "result_df_4.show(truncate=False)"
   ]
  },
  {
   "cell_type": "code",
   "execution_count": 57,
   "metadata": {
    "colab": {
     "base_uri": "https://localhost:8080/"
    },
    "id": "a2eQD15zB6Er",
    "outputId": "12903327-01ce-42f7-afdf-31b625a40ade"
   },
   "outputs": [
    {
     "data": {
      "text/plain": [
       "808"
      ]
     },
     "execution_count": 57,
     "metadata": {},
     "output_type": "execute_result"
    }
   ],
   "source": [
    "# Count all companies with names that are palindromes\n",
    "cb_sdf.filter(cb_sdf.name == reverse(cb_sdf.name)).count()"
   ]
  }
 ],
 "metadata": {
  "colab": {
   "provenance": []
  },
  "kernelspec": {
   "display_name": "Python 3 (ipykernel)",
   "language": "python",
   "name": "python3"
  },
  "language_info": {
   "codemirror_mode": {
    "name": "ipython",
    "version": 3
   },
   "file_extension": ".py",
   "mimetype": "text/x-python",
   "name": "python",
   "nbconvert_exporter": "python",
   "pygments_lexer": "ipython3",
   "version": "3.9.7"
  }
 },
 "nbformat": 4,
 "nbformat_minor": 1
}
