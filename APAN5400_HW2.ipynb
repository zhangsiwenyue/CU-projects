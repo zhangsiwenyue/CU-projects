{
 "cells": [
  {
   "cell_type": "code",
   "execution_count": 7,
   "metadata": {},
   "outputs": [
    {
     "name": "stdout",
     "output_type": "stream",
     "text": [
      "Connecting to the PostgreSQL database...\n"
     ]
    }
   ],
   "source": [
    "# Establish a connection to the PostgreSQL database\n",
    "import psycopg, os\n",
    "print('Connecting to the PostgreSQL database...')\n",
    "conn = psycopg.connect(\n",
    "    host=\"localhost\",\n",
    "    port='5432',\n",
    "    dbname=\"my_db\",\n",
    "    user=\"postgres\",\n",
    "    password=\"123\")"
   ]
  },
  {
   "cell_type": "code",
   "execution_count": 8,
   "metadata": {},
   "outputs": [],
   "source": [
    "# Create a cursor object using the connection\n",
    "cur = conn.cursor()"
   ]
  },
  {
   "cell_type": "code",
   "execution_count": 9,
   "metadata": {},
   "outputs": [
    {
     "name": "stdout",
     "output_type": "stream",
     "text": [
      "PostgreSQL database version:\n",
      "('PostgreSQL 16.2 (Debian 16.2-1.pgdg120+2) on x86_64-pc-linux-gnu, compiled by gcc (Debian 12.2.0-14) 12.2.0, 64-bit',)\n"
     ]
    }
   ],
   "source": [
    "print('PostgreSQL database version:')\n",
    "cur.execute('SELECT version()')\n",
    "db_version = cur.fetchone()\n",
    "print(db_version)"
   ]
  },
  {
   "cell_type": "code",
   "execution_count": 10,
   "metadata": {},
   "outputs": [
    {
     "data": {
      "text/plain": [
       "<psycopg.Cursor [COMMAND_OK] [INTRANS] (host=localhost user=postgres database=my_db) at 0x27c007d2720>"
      ]
     },
     "execution_count": 10,
     "metadata": {},
     "output_type": "execute_result"
    }
   ],
   "source": [
    "# Define the SQL command to create the 'ceos' table\n",
    "create_ceo_table_Cmd = \"\"\"CREATE TABLE ceos (\n",
    "            ceo_id SERIAL PRIMARY KEY,\n",
    "            first_name TEXT NOT NULL,\n",
    "            last_name TEXT NOT NULL,\n",
    "            year_of_birth INTEGER NOT NULL,\n",
    "            place_of_birth TEXT NOT NULL,\n",
    "            start_year INTEGER NOT NULL\n",
    ");\n",
    "\"\"\"\n",
    "cur.execute(create_ceo_table_Cmd)"
   ]
  },
  {
   "cell_type": "code",
   "execution_count": 11,
   "metadata": {},
   "outputs": [
    {
     "data": {
      "text/plain": [
       "<psycopg.Cursor [COMMAND_OK] [INTRANS] (host=localhost user=postgres database=my_db) at 0x27c007d2720>"
      ]
     },
     "execution_count": 11,
     "metadata": {},
     "output_type": "execute_result"
    }
   ],
   "source": [
    "# Define the SQL command to create the 'companies' table\n",
    "create_companies_table_Cmd = \"\"\"CREATE TABLE companies(\n",
    "    company_id SERIAL PRIMARY KEY,\n",
    "    name TEXT NOT NULL,\n",
    "    headquarters_city TEXT NOT NULL,\n",
    "    founding_year INTEGER NOT NULL,\n",
    "    ceo_id INTEGER REFERENCES ceos(ceo_id)\n",
    ");\n",
    "\"\"\"\n",
    "cur.execute(create_companies_table_Cmd)"
   ]
  },
  {
   "cell_type": "code",
   "execution_count": 12,
   "metadata": {},
   "outputs": [
    {
     "data": {
      "text/plain": [
       "<psycopg.Cursor [COMMAND_OK] [INTRANS] (host=localhost user=postgres database=my_db) at 0x27c007d2720>"
      ]
     },
     "execution_count": 12,
     "metadata": {},
     "output_type": "execute_result"
    }
   ],
   "source": [
    "# Define the SQL command to create the 'locations' table\n",
    "create_LOCATIONS_table_Cmd = \"\"\"CREATE TABLE Locations (\n",
    "    location_id SERIAL PRIMARY KEY,\n",
    "    city TEXT NOT NULL,\n",
    "    state TEXT,\n",
    "    country TEXT NOT NULL\n",
    ");\n",
    "\"\"\"\n",
    "cur.execute(create_LOCATIONS_table_Cmd)"
   ]
  },
  {
   "cell_type": "code",
   "execution_count": 22,
   "metadata": {},
   "outputs": [
    {
     "data": {
      "text/plain": [
       "<psycopg.Cursor [COMMAND_OK] [INTRANS] (host=localhost user=postgres database=my_db) at 0x27c007d2720>"
      ]
     },
     "execution_count": 22,
     "metadata": {},
     "output_type": "execute_result"
    }
   ],
   "source": [
    "# Inserting values into the 'ceos' table\n",
    "insert_records_ceos = \"\"\"insert into ceos (first_name, last_name, year_of_birth, place_of_birth, start_year)\n",
    "VALUES ('Tim', 'Cook', 1960, 'Mobile, AL, USA', 2011),\n",
    "('Arvind', 'Krishna', 1962, 'West Godavari, Andhra-Pradesh, India', 2020),\n",
    "('Andy', 'Jassy', 1968, 'Scarsdale, NY, USA', 2021),\n",
    "('Mary', 'Barra', 1961, 'Royal Oak, MI, USA', 2014),\n",
    "('Kenichiro', 'Yoshida', 1959, 'Kumamoto, Japan', 2018),\n",
    "('Daniel', 'Zhang', 1972, 'Shanghai, China', 2015),\n",
    "('François-Henri', 'Pinault', 1962, 'Rennes, Illes-et-Villaine, France', 2005),\n",
    "('Lee', 'Jae-yong', 1968, 'Seoul, South Korea', 2022),\n",
    "('Doug', 'McMillon', 1966, 'Memphis, TN, USA', 2014)\n",
    "\"\"\"\n",
    "cur.execute(insert_records_ceos)\n",
    "\n",
    "# Inserting values into the 'companies' table\n",
    "insert_records_companies = \"\"\"insert into companies (name, headquarters_city, founding_year, ceo_id)\n",
    "VALUES ('Apple', 'Cupertino, CA', 1976, 1),\n",
    "('IBM', 'Armonk, NY', 1911, 2),\n",
    "('Amazon', 'Seattle, WA', 1994, 3),\n",
    "('General Motors', 'Detroit, MI', 1908, 4),\n",
    "('Sony Corporation', 'Tokyo', 1946, 5),\n",
    "('Alibaba Group', 'Hangzhou, Zhejiang', 1999, 6),\n",
    "('Kering SA', 'Paris', 1963, 7),\n",
    "('Samsung Electronics', 'Suwon, Gyeonggi-do', 1969, 8),\n",
    "('Walmart', 'Bentonville, Arkansas', 1962, 9)\n",
    "\"\"\"\n",
    "cur.execute(insert_records_companies)\n",
    "\n",
    "# Inserting values into the 'locations' table\n",
    "insert_records_locations = \"\"\"insert into locations(city, country)\n",
    "VALUES ('Cupertino, CA', 'USA'),\n",
    "('Armonk, NY', 'USA'),\n",
    "('Seattle, WA', 'USA'),\n",
    "('Detroit, MI', 'USA'),\n",
    "('Tokyo', 'Japan'),\n",
    "('Hangzhou, Zhejiang', 'China'),\n",
    "('Paris', 'France'),\n",
    "('Suwon, Gyeonggi-do', 'South Korea'),\n",
    "('Bentonville, Arkansas', 'USA')\n",
    "\"\"\"\n",
    "cur.execute(insert_records_locations)\n"
   ]
  },
  {
   "cell_type": "code",
   "execution_count": 24,
   "metadata": {},
   "outputs": [
    {
     "name": "stdout",
     "output_type": "stream",
     "text": [
      "The number of rows:  1\n",
      "First names of the CEOs of the companies headquartered in South Korea: Lee\n"
     ]
    }
   ],
   "source": [
    "#1. What are the first names of the CEOs of the companies headquartered in South Korea?\n",
    "query_cmd = '''\n",
    "    SELECT ceos.first_name\n",
    "    FROM ceos\n",
    "    INNER JOIN companies ON ceos.ceo_id = companies.ceo_id\n",
    "    INNER JOIN locations ON companies.headquarters_city = locations.city\n",
    "    WHERE locations.country = 'South Korea'\n",
    "'''\n",
    "cur.execute(query_cmd)\n",
    "print(\"The number of rows: \", cur.rowcount)\n",
    "\n",
    "row = cur.fetchone()\n",
    "while row is not None:\n",
    "    print(\"First names of the CEOs of the companies headquartered in South Korea:\", row[0])\n",
    "    row = cur.fetchone()"
   ]
  },
  {
   "cell_type": "code",
   "execution_count": 25,
   "metadata": {},
   "outputs": [
    {
     "name": "stdout",
     "output_type": "stream",
     "text": [
      "The number of rows:  2\n",
      "City that hosts the headquarter of the company whose CEO has a last name Yoshida: Tokyo, Japan\n",
      "City that hosts the headquarter of the company whose CEO has a last name Yoshida: Tokyo\n"
     ]
    }
   ],
   "source": [
    "#2.Which city hosts the headquarters of the company whose CEO has a last name Yoshida?\n",
    "query_cmd = '''\n",
    "    SELECT companies.headquarters_city\n",
    "    FROM companies\n",
    "    INNER JOIN ceos ON companies.ceo_id = ceos.ceo_id\n",
    "    WHERE ceos.last_name = 'Yoshida'\n",
    "'''\n",
    "cur.execute(query_cmd)\n",
    "print(\"The number of rows: \", cur.rowcount)\n",
    "\n",
    "row = cur.fetchone()\n",
    "while row is not None:\n",
    "    print(\"City that hosts the headquarter of the company whose CEO has a last name Yoshida:\", row[0])\n",
    "    row = cur.fetchone()"
   ]
  },
  {
   "cell_type": "code",
   "execution_count": 18,
   "metadata": {},
   "outputs": [
    {
     "name": "stdout",
     "output_type": "stream",
     "text": [
      "The number of rows:  7\n",
      "Founding years of the companies whose CEOs were born between 1960 and 1969: 1976\n",
      "Founding years of the companies whose CEOs were born between 1960 and 1969: 1911\n",
      "Founding years of the companies whose CEOs were born between 1960 and 1969: 1994\n",
      "Founding years of the companies whose CEOs were born between 1960 and 1969: 1908\n",
      "Founding years of the companies whose CEOs were born between 1960 and 1969: 1963\n",
      "Founding years of the companies whose CEOs were born between 1960 and 1969: 1969\n",
      "Founding years of the companies whose CEOs were born between 1960 and 1969: 1962\n"
     ]
    }
   ],
   "source": [
    "#3. What are the founding years of the companies whose CEOs were born between 1960 and 1969?\n",
    "query_cmd = '''\n",
    "    SELECT companies.founding_year\n",
    "    FROM ceos\n",
    "    INNER JOIN companies ON ceos.ceo_id = companies.ceo_id\n",
    "    WHERE ceos.year_of_birth BETWEEN 1960 AND 1969\n",
    "'''\n",
    "cur.execute(query_cmd)\n",
    "print(\"The number of rows: \", cur.rowcount)\n",
    "\n",
    "row = cur.fetchone()\n",
    "while row is not None:\n",
    "    print(\"Founding years of the companies whose CEOs were born between 1960 and 1969:\", row[0])\n",
    "    row = cur.fetchone()"
   ]
  },
  {
   "cell_type": "code",
   "execution_count": 20,
   "metadata": {},
   "outputs": [
    {
     "name": "stdout",
     "output_type": "stream",
     "text": [
      "The number of rows:  1\n",
      "The CEO of the company founded in 1908 has been serving in their position for 10 years.\n"
     ]
    }
   ],
   "source": [
    "#4.How long has the CEO of the company founded in 1908 been serving in their position?\n",
    "query_cmd = '''\n",
    "    SELECT 2024 - ceos.start_year AS years_served\n",
    "    FROM ceos\n",
    "    INNER JOIN companies ON ceos.ceo_id = companies.ceo_id\n",
    "    WHERE companies.founding_year = 1908\n",
    "'''\n",
    "cur.execute(query_cmd)\n",
    "print(\"The number of rows: \", cur.rowcount)\n",
    "\n",
    "row = cur.fetchone()\n",
    "while row is not None:\n",
    "    print(\"The CEO of the company founded in 1908 has been serving in their position for\", row[0],\"years.\")\n",
    "    row = cur.fetchone()"
   ]
  },
  {
   "cell_type": "code",
   "execution_count": 29,
   "metadata": {},
   "outputs": [
    {
     "name": "stdout",
     "output_type": "stream",
     "text": [
      "The number of rows:  1\n",
      "The age of the CEO of the company based in Hangzhou is: 52\n"
     ]
    }
   ],
   "source": [
    "#5.What is the age of the CEO of the company based in Hangzhou? \n",
    "query_cmd = '''\n",
    "    SELECT 2024 - ceos.year_of_birth AS age\n",
    "    FROM ceos\n",
    "    INNER JOIN companies ON ceos.ceo_id = companies.ceo_id\n",
    "    INNER JOIN locations ON companies.headquarters_city = LOCATIONS.city\n",
    "    WHERE locations.city = 'Hangzhou, Zhejiang'\n",
    "'''\n",
    "cur.execute(query_cmd)\n",
    "print(\"The number of rows: \", cur.rowcount)\n",
    "\n",
    "row = cur.fetchone()\n",
    "while row is not None:\n",
    "    print(\"The age of the CEO of the company based in Hangzhou is:\", row[0])\n",
    "    row = cur.fetchone()"
   ]
  }
 ],
 "metadata": {
  "kernelspec": {
   "display_name": "Python 3 (ipykernel)",
   "language": "python",
   "name": "python3"
  },
  "language_info": {
   "codemirror_mode": {
    "name": "ipython",
    "version": 3
   },
   "file_extension": ".py",
   "mimetype": "text/x-python",
   "name": "python",
   "nbconvert_exporter": "python",
   "pygments_lexer": "ipython3",
   "version": "3.9.7"
  }
 },
 "nbformat": 4,
 "nbformat_minor": 2
}
