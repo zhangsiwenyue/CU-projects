{
 "cells": [
  {
   "cell_type": "code",
   "execution_count": 8,
   "metadata": {},
   "outputs": [
    {
     "name": "stdout",
     "output_type": "stream",
     "text": [
      "Requirement already satisfied: pymongo in c:\\users\\rober\\anaconda3\\envs\\myenv\\lib\\site-packages (4.6.1)\n",
      "Requirement already satisfied: dnspython<3.0.0,>=1.16.0 in c:\\users\\rober\\anaconda3\\envs\\myenv\\lib\\site-packages (from pymongo) (2.6.1)\n",
      "Note: you may need to restart the kernel to use updated packages.\n"
     ]
    }
   ],
   "source": [
    "pip install pymongo"
   ]
  },
  {
   "cell_type": "code",
   "execution_count": 9,
   "metadata": {},
   "outputs": [],
   "source": [
    "from pymongo import MongoClient\n",
    "import pymongo\n",
    "client = MongoClient('localhost',27017) ## or MongoClient(\"localhost:27\")\n",
    "db= client.apan5400HW3"
   ]
  },
  {
   "cell_type": "code",
   "execution_count": 25,
   "metadata": {},
   "outputs": [
    {
     "data": {
      "text/plain": [
       "InsertManyResult([ObjectId('65e3be852a93d4905b591bce'), ObjectId('65e3be852a93d4905b591bcf'), ObjectId('65e3be852a93d4905b591bd0'), ObjectId('65e3be852a93d4905b591bd1'), ObjectId('65e3be852a93d4905b591bd2'), ObjectId('65e3be852a93d4905b591bd3'), ObjectId('65e3be852a93d4905b591bd4'), ObjectId('65e3be852a93d4905b591bd5'), ObjectId('65e3be852a93d4905b591bd6'), ObjectId('65e3be852a93d4905b591bd7'), ObjectId('65e3be852a93d4905b591bd8'), ObjectId('65e3be852a93d4905b591bd9'), ObjectId('65e3be852a93d4905b591bda'), ObjectId('65e3be852a93d4905b591bdb'), ObjectId('65e3be852a93d4905b591bdc')], acknowledged=True)"
      ]
     },
     "execution_count": 25,
     "metadata": {},
     "output_type": "execute_result"
    }
   ],
   "source": [
    "db.companies.insert_many([\n",
    "    {\"company\": \"Apple\", \"city\":\"Cupertino\",\"state\":\"California\",\"country\":\"USA\",\"description\":\"American multinational technology company that designs, develops, and sells consumer electronics, computer software, and online services\",\"employees\":164000,\"founded\":1976,\"revenue\":394.33},\n",
    "    {\"company\": \"Microsoft\", \"city\":\"Redmond\",\"state\":\"Washington\",\"country\":\"USA\",\"description\":\"American multinational technology company that develops, manufactures, licenses, supports, and sells computer software, consumer electronics, personal computers, and related services.\",\"employees\":221000,\"founded\":1975,\"revenue\":198.27},\n",
    "    {\"company\": \"Amazon\", \"city\":\"Seattle\",\"state\":\"Washington\",\"country\":\"USA\",\"description\":\"American multinational technology company which focuses on e-commerce, cloud computing, digital streaming, and artificial intelligence.\",\"employees\":1541000,\"founded\":1994,\"revenue\":513.98},\n",
    "    {\"company\": \"Alphabet\", \"city\":\"Mountain View\",\"state\":\"California\",\"country\":\"USA\",\"description\":\"American multinational technology company that specializes in Internet-related services and products, which include online advertising technologies, a search engine, cloud computing, software, and hardware.\",\"employees\":190234,\"founded\":1998,\"revenue\":282.84},\n",
    "    {\"company\": \"Alibaba Group\", \"city\":\"Hangzhou\",\"state\":\"Zhejiang\",\"country\":\"China\",\"description\":\"Chinese multinational technology company specializing in e-commerce, retail, Internet, and technology.\",\"employees\":239740,\"founded\":1999,\"revenue\":134.57},\n",
    "    {\"company\": \"Sony Group\", \"city\":\"Tokyo\",\"state\":\"Tokyo\",\"country\":\"Japan\",\"description\":\"Japanese multinational conglomerate that manufactures consumer and professional electronic products, is the largest video game console company and one of the most comprehensive media companies.\",\"employees\":108900,\"founded\":1946,\"revenue\":88.3},\n",
    "    {\"company\": \"Samsung Electronics\", \"city\":\"Suwon\",\"state\":\"Gyeonggi\",\"country\":\"South Korea\",\"description\":\"South Korean multinational electronics company that is the world's largest manufacturer of mobile phones, smartphones, and memory chips.\",\"employees\":266673,\"founded\":1969,\"revenue\":245.7},\n",
    "    {\"company\": \"Mercedes-Benz Group\", \"city\":\"Stuttgart\",\"state\":\"Baden-Wurttemberg\",\"country\":\"Germany\",\"description\":\"German multinational automotive corporation that is one of the world's leading car and truck manufacturers.\",\"employees\":172425,\"founded\":1926,\"revenue\":153.95},\n",
    "    {\"company\": \"Tesla\", \"city\":\"Austin\",\"state\":\"Texas\",\"country\":\"USA\",\"description\":\"American company that designs and manufactures electric vehicles, battery energy storage, and related products and services.\",\"employees\":127855,\"founded\":2003,\"revenue\":81.46},\n",
    "    {\"company\": \"British Petroleum\", \"city\":\"London\",\"state\":\"England\",\"country\":\"UK\",\"description\":\"British multinational oil and gas company involved in exploration, extraction, refining, distribution, marketing, power generation, and trading.\",\"employees\":65900,\"founded\":1909,\"revenue\":248.89},\n",
    "    {\"company\": \"China National Petroleum Corporation\", \"city\":\"Beijing\",\"state\":\" \",\"country\":\"China\",\"description\":\"Major national oil and gas corporation of China and one of the largest integrated energy groups in the world.\",\"employees\":1448400,\"founded\":1988,\"revenue\":411.7},\n",
    "    {\"company\": \"Saudi Aramco\", \"city\":\"Dhahran\",\"state\":\"Eastern Province\",\"country\":\"Saudi Arabia\",\"description\":\"Saudi Arabian public petroleum and natural gas company with the world's second-largest proven crude oil reserves.\",\"employees\":66800,\"founded\":1933,\"revenue\":552.25},\n",
    "    {\"company\": \"Glencore\", \"city\":\"Baar\",\"state\":\"Zug\",\"country\":\"Switzerland\",\"description\":\"Anglo-Swiss multinational commodity trading and mining company.\",\"employees\":135000,\"founded\":1974,\"revenue\":255.98},\n",
    "    {\"company\": \"Toyota Motor\", \"city\":\"Toyota\",\"state\":\"Aichi\",\"country\":\"Japan\",\"description\":\"Japanese multinational automotive manufacturer and one of the largest automobile manufacturers in the world.\",\"employees\":366283,\"founded\":1937,\"revenue\":267.02},\n",
    "    {\"company\": \"Allianz\", \"city\":\"Munich\",\"state\":\"Bavaria\",\"country\":\"Germany\",\"description\":\"German multinational financial services company with core businesses of insurance and asset management.\",\"employees\":155411,\"founded\":1890,\"revenue\":161.44}\n",
    "])"
   ]
  },
  {
   "cell_type": "code",
   "execution_count": 12,
   "metadata": {},
   "outputs": [
    {
     "name": "stdout",
     "output_type": "stream",
     "text": [
      "Alibaba Group\n",
      "Tesla\n"
     ]
    }
   ],
   "source": [
    "#Print the list of companies established in the last 25 years in the descending order of revenue. \n",
    "filter_criteria = {\"founded\": {\"$gte\": 1999}}\n",
    "cursor = db.companies.find(filter_criteria).sort(\"revenue\", pymongo.DESCENDING)\n",
    "for company in cursor:\n",
    "    print(company[\"company\"])"
   ]
  },
  {
   "cell_type": "code",
   "execution_count": 15,
   "metadata": {},
   "outputs": [
    {
     "name": "stdout",
     "output_type": "stream",
     "text": [
      "[{'_id': 'company', 'total_revenue': 1699.54}]\n"
     ]
    }
   ],
   "source": [
    "#Print the total of annual revenues of the companies headquartered in Asia (China, Korea, Japan, and Saudi Arabia)\n",
    "asia_revenue = db.companies.aggregate([\n",
    "    {\"$match\": {\"country\": {\"$in\": [\"China\", \"South Korea\", \"Japan\", \"Saudi Arabia\"]}}},\n",
    "    {\"$group\": {\"_id\": \"company\", \"total_revenue\": {\"$sum\": \"$revenue\"}}}\n",
    "])\n",
    "print(list(asia_revenue))"
   ]
  },
  {
   "cell_type": "code",
   "execution_count": 27,
   "metadata": {},
   "outputs": [
    {
     "name": "stdout",
     "output_type": "stream",
     "text": [
      "Country where the company is located: Germany\n"
     ]
    }
   ],
   "source": [
    "#Print the country in which the company that is among the world's leading car and truck manufacturers located.\n",
    "filter_criteria = {\"description\": {\"$regex\": \"world's leading car and truck manufacturers\", \"$options\": \"i\"}}\n",
    "cursor = db.companies.find(filter_criteria)\n",
    "for company in cursor:\n",
    "    print(\"Country where the company is located:\", company[\"country\"])"
   ]
  },
  {
   "cell_type": "code",
   "execution_count": 31,
   "metadata": {},
   "outputs": [
    {
     "name": "stdout",
     "output_type": "stream",
     "text": [
      "Company with the smallest number of employees: Tesla\n",
      "Number of employees: 127855\n"
     ]
    }
   ],
   "source": [
    "#Print the company established after 1970, which has the smallest number of employees.\n",
    "filter_criteria = {\"founded\": {\"$gt\": 1970}}\n",
    "cursor = db.companies.find(filter_criteria, {\"_id\": 0, \"company\": 1, \"employees\": 1})\n",
    "smallest_company = None\n",
    "smallest_employees = float('inf')\n",
    "for company in cursor:\n",
    "    if company[\"employees\"] < smallest_employees:\n",
    "        smallest_employees = company[\"employees\"]\n",
    "        smallest_company = company[\"company\"]\n",
    "if smallest_company:\n",
    "    print(\"Company with the smallest number of employees:\", smallest_company)\n",
    "    print(\"Number of employees:\", smallest_employees)"
   ]
  },
  {
   "cell_type": "code",
   "execution_count": 37,
   "metadata": {},
   "outputs": [
    {
     "name": "stdout",
     "output_type": "stream",
     "text": [
      "Annual revenues and founding years of automotive companies:\n",
      "Company: Tesla\n",
      "Annual Revenue: 81.46\n",
      "Founding Year: 2003\n",
      "\n",
      "Company: Toyota Motor\n",
      "Annual Revenue: 267.02\n",
      "Founding Year: 1937\n",
      "\n",
      "Company: Mercedes-Benz Group\n",
      "Annual Revenue: 153.95\n",
      "Founding Year: 1926\n",
      "\n",
      "Company: Tesla\n",
      "Annual Revenue: 81.46\n",
      "Founding Year: 2003\n",
      "\n",
      "Company: Toyota Motor\n",
      "Annual Revenue: 267.02\n",
      "Founding Year: 1937\n",
      "\n"
     ]
    }
   ],
   "source": [
    "#Print the annual revenues and the founding years of the automotive companies.\n",
    "filter_criteria = {\"description\": {\"$regex\": \"automotive|car|vehicle\", \"$options\": \"i\"}}\n",
    "cursor = db.companies.find(filter_criteria)\n",
    "print(\"Annual revenues and founding years of automotive companies:\")\n",
    "for company in cursor:\n",
    "    print(\"Company:\", company[\"company\"])\n",
    "    print(\"Annual Revenue:\", company[\"revenue\"])\n",
    "    print(\"Founding Year:\", company[\"founded\"])\n",
    "    print()"
   ]
  }
 ],
 "metadata": {
  "kernelspec": {
   "display_name": "Python 3 (ipykernel)",
   "language": "python",
   "name": "python3"
  },
  "language_info": {
   "codemirror_mode": {
    "name": "ipython",
    "version": 3
   },
   "file_extension": ".py",
   "mimetype": "text/x-python",
   "name": "python",
   "nbconvert_exporter": "python",
   "pygments_lexer": "ipython3",
   "version": "3.9.7"
  }
 },
 "nbformat": 4,
 "nbformat_minor": 2
}
