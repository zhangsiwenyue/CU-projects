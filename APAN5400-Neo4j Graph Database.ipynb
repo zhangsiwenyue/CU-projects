{
 "cells": [
  {
   "cell_type": "code",
   "execution_count": 1,
   "metadata": {},
   "outputs": [
    {
     "name": "stdout",
     "output_type": "stream",
     "text": [
      "Collecting tomlkit\n",
      "  Downloading tomlkit-0.12.4-py3-none-any.whl.metadata (2.7 kB)\n",
      "Downloading tomlkit-0.12.4-py3-none-any.whl (37 kB)\n",
      "Installing collected packages: tomlkit\n",
      "Successfully installed tomlkit-0.12.4\n",
      "Collecting neo4j\n",
      "  Downloading neo4j-5.18.0.tar.gz (198 kB)\n",
      "     ---------------------------------------- 0.0/198.0 kB ? eta -:--:--\n",
      "     -- ------------------------------------- 10.2/198.0 kB ? eta -:--:--\n",
      "     ------- ----------------------------- 41.0/198.0 kB 487.6 kB/s eta 0:00:01\n",
      "     ---------------------- ------------- 122.9/198.0 kB 901.1 kB/s eta 0:00:01\n",
      "     ------------------------------------ 198.0/198.0 kB 998.7 kB/s eta 0:00:00\n",
      "  Installing build dependencies: started\n",
      "  Installing build dependencies: finished with status 'done'\n",
      "  Getting requirements to build wheel: started\n",
      "  Getting requirements to build wheel: finished with status 'done'\n",
      "  Installing backend dependencies: started\n",
      "  Installing backend dependencies: finished with status 'done'\n",
      "  Preparing metadata (pyproject.toml): started\n",
      "  Preparing metadata (pyproject.toml): finished with status 'done'\n",
      "Requirement already satisfied: pytz in c:\\users\\rober\\anaconda3\\envs\\myenv\\lib\\site-packages (from neo4j) (2023.3.post1)\n",
      "Building wheels for collected packages: neo4j\n",
      "  Building wheel for neo4j (pyproject.toml): started\n",
      "  Building wheel for neo4j (pyproject.toml): finished with status 'done'\n",
      "  Created wheel for neo4j: filename=neo4j-5.18.0-py3-none-any.whl size=273889 sha256=5f2d20da7624f690440ce0a43031f4848015682c2c27f4af3b13a68e5e99ec32\n",
      "  Stored in directory: c:\\users\\rober\\appdata\\local\\pip\\cache\\wheels\\b3\\a5\\e2\\3a8310360138461059e9918482cdea1cfb681672f85dc34e9a\n",
      "Successfully built neo4j\n",
      "Installing collected packages: neo4j\n",
      "Successfully installed neo4j-5.18.0\n"
     ]
    }
   ],
   "source": [
    "!pip3 install tomlkit\n",
    "!pip3 install -U neo4j"
   ]
  },
  {
   "cell_type": "code",
   "execution_count": 18,
   "metadata": {},
   "outputs": [
    {
     "name": "stdout",
     "output_type": "stream",
     "text": [
      "Successfully connected to Neo4j!\n"
     ]
    }
   ],
   "source": [
    "from neo4j import GraphDatabase\n",
    "\n",
    "database_name = \"neo4j\"\n",
    "username = \"neo4j\"\n",
    "password = \"apan5400\"\n",
    "uri = \"bolt://localhost:7687/\" + database_name\n",
    "\n",
    "driver = GraphDatabase.driver(uri, auth=(username, password))\n",
    "session = driver.session()\n",
    "\n",
    "print(\"Successfully connected to Neo4j!\")"
   ]
  },
  {
   "cell_type": "code",
   "execution_count": 14,
   "metadata": {},
   "outputs": [
    {
     "name": "stdout",
     "output_type": "stream",
     "text": [
      "file:///C:/Users/rober/Downloads/companies.csv\n"
     ]
    },
    {
     "name": "stderr",
     "output_type": "stream",
     "text": [
      "C:\\Users\\rober\\AppData\\Local\\Temp\\ipykernel_22304\\2618663068.py:35: DeprecationWarning: write_transaction has been renamed to execute_write\n",
      "  result = session.write_transaction(import_csv_data, query)\n"
     ]
    },
    {
     "name": "stdout",
     "output_type": "stream",
     "text": [
      "All companies are imported from the CSV file!\n"
     ]
    }
   ],
   "source": [
    "import os\n",
    "import urllib\n",
    "\n",
    "# Define the path to the CSV file\n",
    "datapath = \"C:/Users/rober/Downloads/companies.csv\"\n",
    "print(\"file:///{0}\".format(datapath))\n",
    "\n",
    "# Cypher query to import data from CSV into Neo4j\n",
    "query = (\"LOAD CSV WITH HEADERS FROM 'file:///{0}' AS line\".format(datapath)\n",
    "+ \"\"\"\n",
    "CREATE (company:Company { \\\n",
    "                       name: line.company, \\\n",
    "                  employees: toInteger(line.employees),\\\n",
    "                       year: toInteger(line.founded), \\\n",
    "                    revenue: toFloat(line.revenue) \\\n",
    "                            } \\\n",
    "            )\n",
    "MERGE  (city:City {name: line.city})\n",
    "MERGE  (state:State {name: line.state})\n",
    "MERGE  (country:Country {name: line.country})\n",
    "CREATE (company)-[:HEADQUARTERED_IN]->(city)\n",
    "CREATE (city)-[:LOCATED_IN]->(state)\n",
    "CREATE (state)-[:PART_OF]->(country)\n",
    "\"\"\"\n",
    ")\n",
    "\n",
    "# Function to import data from CSV into Neo4j\n",
    "def import_csv_data(tx, query):\n",
    "    result = tx.run(query)\n",
    "    return result\n",
    "\n",
    "# Connect to Neo4j and import data\n",
    "driver = GraphDatabase.driver(uri, auth=(username, password))\n",
    "with driver.session() as session:\n",
    "    result = session.write_transaction(import_csv_data, query)\n",
    "    print(\"All companies are imported from the CSV file!\")"
   ]
  },
  {
   "cell_type": "code",
   "execution_count": 21,
   "metadata": {},
   "outputs": [
    {
     "name": "stdout",
     "output_type": "stream",
     "text": [
      "Alphabet\n",
      "Apple\n"
     ]
    }
   ],
   "source": [
    "# 1.Which companies are located in the state of California (via 2nd degree relation)?\n",
    "query1 = \"\"\"\n",
    "MATCH (company:Company)-[:HEADQUARTERED_IN]->(:City)-[:LOCATED_IN]->(:State {name: 'California'})\n",
    "RETURN company.name\n",
    "\"\"\"\n",
    "result1 = session.run(query1)\n",
    "for record in result1:\n",
    "    print(record[\"company.name\"])"
   ]
  },
  {
   "cell_type": "code",
   "execution_count": 22,
   "metadata": {},
   "outputs": [
    {
     "name": "stdout",
     "output_type": "stream",
     "text": [
      "Apple\n",
      "Microsoft\n",
      "Amazon\n",
      "Alphabet\n",
      "Alibaba Group\n",
      "China National Petroleum Corporation\n"
     ]
    }
   ],
   "source": [
    "# 2.Which companies have been founded in the last quarter of the 20th century [1975-2000]? \n",
    "query2 = \"\"\"\n",
    "MATCH (company:Company)\n",
    "WHERE company.year >= 1975 AND company.year <= 2000\n",
    "RETURN company.name\n",
    "\"\"\"\n",
    "result2 = session.run(query2)\n",
    "for record in result2:\n",
    "    print(record[\"company.name\"])"
   ]
  },
  {
   "cell_type": "code",
   "execution_count": 34,
   "metadata": {},
   "outputs": [
    {
     "name": "stdout",
     "output_type": "stream",
     "text": [
      "294.176\n"
     ]
    }
   ],
   "source": [
    "# 3.What is the average annual revenue for all companies in the USA?\n",
    "query3 = \"\"\"\n",
    "MATCH (company:Company)-[:HEADQUARTERED_IN]->(:City)-[:LOCATED_IN]->(:State)-[:PART_OF]->(:Country {name: 'USA'})\n",
    "RETURN AVG(company.revenue) AS average_revenue\n",
    "\"\"\"\n",
    "result3 = session.run(query3)\n",
    "for record in result3:\n",
    "    print(record[\"average_revenue\"])"
   ]
  },
  {
   "cell_type": "code",
   "execution_count": 36,
   "metadata": {},
   "outputs": [
    {
     "name": "stdout",
     "output_type": "stream",
     "text": [
      "Sony Group\n",
      "Toyota Motor\n"
     ]
    }
   ],
   "source": [
    "# 4.Which companies are headquartered in Japan (via 3rd degree relation)?\n",
    "query4 = \"\"\"\n",
    "MATCH (company:Company)-[:HEADQUARTERED_IN]->(:City)-[:LOCATED_IN]->(:State)-[:PART_OF]->(:Country {name: 'Japan'})\n",
    "RETURN company.name AS company_name\n",
    "\"\"\"\n",
    "result4 = session.run(query4)\n",
    "for record in result4:\n",
    "    print(record[\"company_name\"])"
   ]
  },
  {
   "cell_type": "code",
   "execution_count": 40,
   "metadata": {},
   "outputs": [
    {
     "name": "stdout",
     "output_type": "stream",
     "text": [
      "Amazon\n",
      "Microsoft\n",
      "Alphabet\n",
      "Apple\n",
      "Tesla\n"
     ]
    }
   ],
   "source": [
    "# Companies in the USA\n",
    "query5 = \"\"\"\n",
    "MATCH (company:Company)-[:HEADQUARTERED_IN]->(:City)-[:LOCATED_IN]->(:State)-[:PART_OF]->(:Country {name: 'USA'})\n",
    "return company.name\n",
    "\"\"\"\n",
    "result5 = session.run(query5)\n",
    "for record in result5:\n",
    "    print(record[\"company.name\"])"
   ]
  },
  {
   "cell_type": "code",
   "execution_count": 42,
   "metadata": {},
   "outputs": [
    {
     "name": "stdout",
     "output_type": "stream",
     "text": [
      "Allianz\n",
      "Mercedes-Benz Group\n"
     ]
    }
   ],
   "source": [
    "# Companies in Germany\n",
    "query6 = \"\"\"\n",
    "MATCH (company:Company)-[:HEADQUARTERED_IN]->(:City)-[:LOCATED_IN]->(:State)-[:PART_OF]->(:Country {name: 'Germany'})\n",
    "return company.name\n",
    "\"\"\"\n",
    "result6 = session.run(query6)\n",
    "for record in result6:\n",
    "    print(record[\"company.name\"])"
   ]
  },
  {
   "cell_type": "code",
   "execution_count": 45,
   "metadata": {},
   "outputs": [
    {
     "name": "stdout",
     "output_type": "stream",
     "text": [
      "2571925\n"
     ]
    }
   ],
   "source": [
    "# 5.What is the total number of employees of all companies in the USA and Germany (via 3rd degree relation)?\n",
    "query7 = \"\"\"\n",
    "MATCH (company:Company)\n",
    "WHERE (company)-[:HEADQUARTERED_IN]->(:City)-[:LOCATED_IN]->(:State)-[:PART_OF]->(:Country {name: 'USA'})\n",
    "   OR (company)-[:HEADQUARTERED_IN]->(:City)-[:LOCATED_IN]->(:State)-[:PART_OF]->(:Country {name: 'Germany'})\n",
    "RETURN SUM(company.employees) AS total_employees\n",
    "\"\"\"\n",
    "result7 = session.run(query7)\n",
    "for record in result7:\n",
    "    print(record[\"total_employees\"])"
   ]
  }
 ],
 "metadata": {
  "kernelspec": {
   "display_name": "Python 3 (ipykernel)",
   "language": "python",
   "name": "python3"
  },
  "language_info": {
   "codemirror_mode": {
    "name": "ipython",
    "version": 3
   },
   "file_extension": ".py",
   "mimetype": "text/x-python",
   "name": "python",
   "nbconvert_exporter": "python",
   "pygments_lexer": "ipython3",
   "version": "3.9.7"
  }
 },
 "nbformat": 4,
 "nbformat_minor": 2
}
